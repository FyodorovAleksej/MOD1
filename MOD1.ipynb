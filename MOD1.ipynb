{
 "cells": [
  {
   "cell_type": "code",
   "execution_count": 1,
   "metadata": {},
   "outputs": [],
   "source": [
    "import generator\n",
    "\n",
    "a = 134279\n",
    "r0 = 1\n",
    "m = 337109\n",
    "n = 1000000"
   ]
  },
  {
   "cell_type": "code",
   "execution_count": 2,
   "metadata": {},
   "outputs": [
    {
     "name": "stdout",
     "output_type": "stream",
     "text": [
      "change values y/n?\n",
      "n\n"
     ]
    }
   ],
   "source": [
    "print(\"change values y/n?\")\n",
    "choose = input()\n",
    "if \"y\" in choose:\n",
    "    print(\"input A\")\n",
    "    a = int(input())\n",
    "    print(\"input R0\")\n",
    "    r0 = int(input())\n",
    "    print(\"input M\")\n",
    "    m = int(input())"
   ]
  },
  {
   "cell_type": "code",
   "execution_count": 3,
   "metadata": {},
   "outputs": [
    {
     "name": "stdout",
     "output_type": "stream",
     "text": [
      "matozh =  0.5033018491911083\n",
      "disp =  0.08304274940974542\n",
      "SKO =  0.2881713889506476\n",
      "K =  0.22137\n",
      "period =  13984\n",
      "aperiod =  13984\n"
     ]
    }
   ],
   "source": [
    "histn = 20\n",
    "    \n",
    "step = 1 / float(20)\n",
    "res = generator.gen_list(m, a, r0, n)\n",
    "x__mean = generator.mat_ozh(res)\n",
    "d = generator.disp(res, x__mean)\n",
    "period = generator.period_length(m, a, r0, 1000000)\n",
    "print(\"matozh = \", x__mean)\n",
    "print(\"disp = \", d)\n",
    "print(\"SKO = \", generator.sqrt(d))\n",
    "print(\"K = \", generator.k_res(res))\n",
    "print(\"period = \", period)\n",
    "print(\"aperiod = \", generator.aperiod_length(period, res))"
   ]
  },
  {
   "cell_type": "code",
   "execution_count": 5,
   "metadata": {
    "scrolled": true
   },
   "outputs": [
    {
     "data": {
      "image/png": "[encoded data removed]",
      "text/plain": [
       "<matplotlib.figure.Figure at 0xa76aa70>"
      ]
     },
     "metadata": {},
     "output_type": "display_data"
    }
   ],
   "source": [
    "generator.showHist(res)"
   ]
  },
  {
   "cell_type": "markdown",
   "metadata": {},
   "source": [
    "## generator histogram\n",
    "![title](./resultHist.png \"generator histogram\")"
   ]
  },
  {
   "cell_type": "code",
   "execution_count": null,
   "metadata": {},
   "outputs": [],
   "source": []
  }
 ],
 "metadata": {
  "kernelspec": {
   "display_name": "Python 3",
   "language": "python",
   "name": "python3"
  },
  "language_info": {
   "codemirror_mode": {
    "name": "ipython",
    "version": 3
   },
   "file_extension": ".py",
   "mimetype": "text/x-python",
   "name": "python",
   "nbconvert_exporter": "python",
   "pygments_lexer": "ipython3",
   "version": "3.6.3"
  }
 },
 "nbformat": 4,
 "nbformat_minor": 2
}
